{
  "nbformat": 4,
  "nbformat_minor": 0,
  "metadata": {
    "colab": {
      "provenance": []
    },
    "kernelspec": {
      "name": "python3",
      "display_name": "Python 3"
    },
    "language_info": {
      "name": "python"
    }
  },
  "cells": [
    {
      "cell_type": "code",
      "execution_count": 8,
      "metadata": {
        "colab": {
          "base_uri": "https://localhost:8080/",
          "height": 198
        },
        "id": "MbhJbPvPPSSx",
        "outputId": "3106f10a-9bc3-4185-ec87-cfcb7bb1cc33"
      },
      "outputs": [
        {
          "output_type": "stream",
          "name": "stdout",
          "text": [
            "Prompt:\n",
            "\n",
            " To calculate the final cost, first add the tax to the item price, then add the shipping fee. Item price: $50, Tax: 10%, Shipping: $5. Explain your reasoning step-by-step.\n",
            "\n",
            "Model's Response:\n"
          ]
        },
        {
          "output_type": "display_data",
          "data": {
            "text/plain": [
              "<IPython.core.display.Markdown object>"
            ],
            "text/markdown": "> Here's how to calculate the final cost step-by-step: Step 1: Calculate the tax amount.  The tax is 10% of the item price ($50).  10% can be expressed as a decimal by dividing by 100: 10/100 = 0.10  Tax amount = 0.10  $50 = $5 Step 2: Add the tax to the item price.  Price with tax = Item price + Tax amount  Price with tax = $50 + $5 = $55 Step 3: Add the shipping fee.  Final cost = Price with tax + Shipping fee  Final cost = $55 + $5 = $60 Therefore, the final cost is $\\boxed{$60}$."
          },
          "metadata": {}
        }
      ],
      "source": [
        "# Install the necessary library\n",
        "!pip install -q -U google-generativeai\n",
        "\n",
        "# Import libraries and configure the API key\n",
        "import os\n",
        "import google.generativeai as genai\n",
        "from IPython.display import display\n",
        "from IPython.display import Markdown\n",
        "import textwrap\n",
        "\n",
        "# Function to display Markdown formatted text\n",
        "def to_markdown(text):\n",
        "  # Replace common unwanted characters\n",
        "  text = text.replace('•', '  *').replace('*', '').replace('**', '').replace('_', '')\n",
        "  # Clean up extra newlines and spaces\n",
        "  text = ' '.join(text.split())\n",
        "  # Return formatted Markdown\n",
        "  return Markdown(textwrap.indent(text, '> ', predicate=lambda _: True))\n",
        "\n",
        "# Access the API key from Colab's secrets manager\n",
        "from google.colab import userdata\n",
        "GOOGLE_API_KEY = userdata.get('GOOGLE_API_KEY')\n",
        "genai.configure(api_key=GOOGLE_API_KEY)\n",
        "\n",
        "# Select the model. gemini-1.5-flash is a great choice for fast responses.\n",
        "model = genai.GenerativeModel('gemini-1.5-flash')\n",
        "\n",
        "# Define your prompt\n",
        "prompt =prompt = \"\"\"\n",
        " To calculate the final cost, first add the tax to the item price, then add the shipping fee. Item price: $50, Tax: 10%, Shipping: $5. Explain your reasoning step-by-step.\"\"\"\n",
        "\n",
        "# Send the prompt to the model and get a response\n",
        "response = model.generate_content(prompt)\n",
        "\n",
        "# Print the model's response\n",
        "print(\"Prompt:\")\n",
        "print(prompt)\n",
        "print(\"\\nModel's Response:\")\n",
        "display(to_markdown(response.text))"
      ]
    }
  ]
}
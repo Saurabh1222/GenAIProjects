{
  "nbformat": 4,
  "nbformat_minor": 0,
  "metadata": {
    "colab": {
      "provenance": []
    },
    "kernelspec": {
      "name": "python3",
      "display_name": "Python 3"
    },
    "language_info": {
      "name": "python"
    }
  },
  "cells": [
    {
      "cell_type": "code",
      "execution_count": 2,
      "metadata": {
        "colab": {
          "base_uri": "https://localhost:8080/",
          "height": 685
        },
        "collapsed": true,
        "id": "MbhJbPvPPSSx",
        "outputId": "3ed65fd0-d8e1-4d3f-fc80-7844842c4fbd"
      },
      "outputs": [
        {
          "output_type": "stream",
          "name": "stdout",
          "text": [
            "Prompt:\n",
            "What is pythagoras theorem. Explain\n",
            "\n",
            "Model's Response:\n"
          ]
        },
        {
          "output_type": "display_data",
          "data": {
            "text/plain": [
              "<IPython.core.display.Markdown object>"
            ],
            "text/markdown": "> The Pythagorean Theorem is a fundamental concept in geometry that describes the relationship between the sides of a right-angled triangle (a triangle with one 90-degree angle).\n> \n> **The Theorem states:**\n> \n> In a right-angled triangle, the square of the hypotenuse (the side opposite the right angle) is equal to the sum of the squares of the other two sides (called legs or cathetus).\n> \n> **Mathematically:**\n> \n> If we label the lengths of the sides as follows:\n> \n> * **a** and **b** are the lengths of the two shorter sides (legs)\n> * **c** is the length of the hypotenuse (the longest side)\n> \n> Then the Pythagorean Theorem can be written as:\n> \n> **a² + b² = c²**\n> \n> **Explanation:**\n> \n> The theorem essentially says that if you build squares on each of the three sides of a right-angled triangle, the area of the square built on the hypotenuse will be equal to the sum of the areas of the squares built on the other two sides.\n> \n> **Example:**\n> \n> Imagine a right-angled triangle with sides of length a = 3, b = 4, and hypotenuse c.  Using the theorem:\n> \n> 3² + 4² = c²\n> 9 + 16 = c²\n> 25 = c²\n> c = √25 = 5\n> \n> Therefore, the hypotenuse has a length of 5.\n> \n> **Uses:**\n> \n> The Pythagorean Theorem has countless applications in various fields, including:\n> \n> * **Construction:** Calculating distances, angles, and sizes of structures.\n> * **Navigation:** Determining distances and directions.\n> * **Surveying:** Measuring land areas and distances.\n> * **Engineering:** Designing bridges, buildings, and other structures.\n> * **Computer graphics:** Calculating positions and distances in 2D and 3D space.\n> * **Physics:** Solving problems involving vectors and motion.\n> \n> \n> It's a cornerstone of geometry and a crucial tool for solving many practical and theoretical problems."
          },
          "metadata": {}
        }
      ],
      "source": [
        "# Install the necessary library\n",
        "!pip install -q -U google-generativeai\n",
        "\n",
        "# Import libraries and configure the API key\n",
        "import os\n",
        "import google.generativeai as genai\n",
        "from IPython.display import display\n",
        "from IPython.display import Markdown\n",
        "import textwrap\n",
        "\n",
        "# Function to display Markdown formatted text\n",
        "def display_markdown_output(raw_output):\n",
        "    \"\"\"\n",
        "    Cleans and formats LLM output for pretty Markdown rendering.\n",
        "    \"\"\"\n",
        "    # Step 1: Replace escaped newlines with real newlines\n",
        "    formatted = raw_output.replace(\"\\\\n\", \"\\n\").strip()\n",
        "\n",
        "    # Step 2: Indent all lines with '> ' for blockquote formatting\n",
        "    indented = textwrap.indent(formatted, '> ', predicate=lambda _: True)\n",
        "\n",
        "    # Step 3: Display as Markdown\n",
        "    return Markdown(indented)\n",
        "\n",
        "# Access the API key from Colab's secrets manager\n",
        "from google.colab import userdata\n",
        "GOOGLE_API_KEY = userdata.get('GOOGLE_API_KEY')\n",
        "genai.configure(api_key=GOOGLE_API_KEY)\n",
        "\n",
        "# Select the model. gemini-1.5-flash is a great choice for fast responses.\n",
        "model = genai.GenerativeModel('gemini-1.5-flash')\n",
        "\n",
        "# Define your prompt\n",
        "prompt =prompt = \"\"\"What is pythagoras theorem. Explain\"\"\"\n",
        "\n",
        "# Send the prompt to the model and get a response\n",
        "response = model.generate_content(prompt)\n",
        "\n",
        "# Print the model's response\n",
        "print(\"Prompt:\")\n",
        "print(prompt)\n",
        "print(\"\\nModel's Response:\")\n",
        "display(display_markdown_output(response.text))"
      ]
    }
  ]
}
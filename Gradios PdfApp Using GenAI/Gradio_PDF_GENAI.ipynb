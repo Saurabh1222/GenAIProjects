{
  "nbformat": 4,
  "nbformat_minor": 0,
  "metadata": {
    "colab": {
      "provenance": []
    },
    "kernelspec": {
      "name": "python3",
      "display_name": "Python 3"
    },
    "language_info": {
      "name": "python"
    }
  },
  "cells": [
    {
      "cell_type": "code",
      "source": [
        "# ✅ Install dependencies\n",
        "!pip install -U langchain langchain-community faiss-cpu sentence-transformers transformers gradio pypdf"
      ],
      "metadata": {
        "collapsed": true,
        "id": "kHX4EhssamGq"
      },
      "execution_count": null,
      "outputs": []
    },
    {
      "cell_type": "code",
      "source": [
        "# ✅ Load and split PDF into chunks\n",
        "from langchain.document_loaders import PyPDFLoader\n",
        "from langchain.text_splitter import RecursiveCharacterTextSplitter\n",
        "def load_pdf_chunks(pdf_path):\n",
        "  doc_text = PyPDFLoader(pdf_path).load()\n",
        "  print(doc_text)\n",
        "  splitter = RecursiveCharacterTextSplitter(chunk_size = 500, chunk_overlap = 50)\n",
        "  chunks = splitter.split_documents(doc_text)\n",
        "  return chunks"
      ],
      "metadata": {
        "id": "hQjND2FWjLsw"
      },
      "execution_count": 11,
      "outputs": []
    },
    {
      "cell_type": "code",
      "source": [
        "# ✅ Create FAISS vector DB using sentence transformer\n",
        "from langchain_community.vectorstores import FAISS\n",
        "from langchain.embeddings import HuggingFaceEmbeddings\n",
        "def create_vector_db(chunks):\n",
        "  embeddings = HuggingFaceEmbeddings(model_name = 'sentence-transformers/all-MiniLM-L6-v2')\n",
        "  vector_db = FAISS.from_documents(chunks, embeddings)\n",
        "  return vector_db"
      ],
      "metadata": {
        "id": "UR7V_KRFlRti"
      },
      "execution_count": 5,
      "outputs": []
    },
    {
      "cell_type": "code",
      "source": [
        "# ✅ Generate answer using Flan-T5\n",
        "from transformers import pipeline\n",
        "def generate_answer(query,pdf_path):\n",
        "  chunks = load_pdf_chunks(pdf_path)\n",
        "  vector_db = create_vector_db(chunks)\n",
        "  similar_docs = vector_db.similarity_search(query,k=3)\n",
        "  context = \"\\n\".join([doc.page_content for doc in similar_docs])\n",
        "  flan = pipeline(task = 'text2text-generation', model = 'google/flan-t5-base')\n",
        "  prompt = f\"Answer the question based on the context:\\n\\n{context}\\n\\nQuestion: {query}\\nAnswer:\"\n",
        "  answer = flan(prompt)[0]['generated_text']\n",
        "  return answer"
      ],
      "metadata": {
        "id": "I4fzTgd-mP_Z"
      },
      "execution_count": 6,
      "outputs": []
    },
    {
      "cell_type": "code",
      "execution_count": 13,
      "metadata": {
        "id": "RRrwpeE4qDL8",
        "colab": {
          "base_uri": "https://localhost:8080/",
          "height": 611
        },
        "collapsed": true,
        "outputId": "a8544ec3-f8a6-41e0-a215-2d5d8c4bc36d"
      },
      "outputs": [
        {
          "output_type": "stream",
          "name": "stdout",
          "text": [
            "Colab notebook detected. To show errors in colab notebook, set debug=True in launch()\n",
            "* Running on public URL: https://7b86e17c59fbd3a5a2.gradio.live\n",
            "\n",
            "This share link expires in 1 week. For free permanent hosting and GPU upgrades, run `gradio deploy` from the terminal in the working directory to deploy to Hugging Face Spaces (https://huggingface.co/spaces)\n"
          ]
        },
        {
          "output_type": "display_data",
          "data": {
            "text/plain": [
              "<IPython.core.display.HTML object>"
            ],
            "text/html": [
              "<div><iframe src=\"https://7b86e17c59fbd3a5a2.gradio.live\" width=\"100%\" height=\"500\" allow=\"autoplay; camera; microphone; clipboard-read; clipboard-write;\" frameborder=\"0\" allowfullscreen></iframe></div>"
            ]
          },
          "metadata": {}
        },
        {
          "output_type": "execute_result",
          "data": {
            "text/plain": []
          },
          "metadata": {},
          "execution_count": 13
        }
      ],
      "source": [
        "gr.Interface(\n",
        "    fn=chat_with_pdf,\n",
        "    inputs=[gr.File(label=\"Upload PDF\"), gr.Textbox(label=\"Ask a question\")],\n",
        "    outputs=\"text\",\n",
        "    title=\"📄 Chat with your PDF\",\n",
        "    description=\"Uses Flan-T5 + LangChain to answer from your PDF\"\n",
        ").launch(share=True)\n"
      ]
    },
    {
      "cell_type": "code",
      "source": [],
      "metadata": {
        "id": "hVySD09jcB_r"
      },
      "execution_count": null,
      "outputs": []
    }
  ]
}